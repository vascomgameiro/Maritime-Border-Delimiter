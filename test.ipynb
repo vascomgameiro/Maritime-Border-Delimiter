{
 "cells": [
  {
   "cell_type": "code",
   "execution_count": 24,
   "metadata": {},
   "outputs": [],
   "source": [
    "from src.delimitation import Delimitation\n",
    "from src.fileHandler import FileHandler\n",
    "from src.point import Point\n",
    "from src.valid_points import ValidPoints"
   ]
  },
  {
   "cell_type": "code",
   "execution_count": 25,
   "metadata": {},
   "outputs": [
    {
     "name": "stdout",
     "output_type": "stream",
     "text": [
      "True\n",
      "True\n",
      "True\n"
     ]
    }
   ],
   "source": [
    "# test_delimitation_initialization:\n",
    "delim = Delimitation()\n",
    "\n",
    "# Test that it's an instance of Delimitation\n",
    "print(isinstance(delim, Delimitation))\n",
    "\n",
    "# Test that no points are present initially\n",
    "print(delim.get_points() == [])\n",
    "\n",
    "# Test that the size is 0\n",
    "print(delim.size() == 0)"
   ]
  },
  {
   "cell_type": "code",
   "execution_count": 26,
   "metadata": {},
   "outputs": [
    {
     "name": "stdout",
     "output_type": "stream",
     "text": [
      "True\n",
      "True\n"
     ]
    }
   ],
   "source": [
    "# test_add_single_point():\n",
    "delim = Delimitation()\n",
    "p1 = Point(\"p1\", 10, 20)\n",
    "\n",
    "delim.add_point(p1)\n",
    "\n",
    "# Test that the point is added correctly\n",
    "points = delim.get_points()\n",
    "print(points == [p1])\n",
    "\n",
    "# Test that the size is updated\n",
    "print(delim.size() == 1)"
   ]
  },
  {
   "cell_type": "code",
   "execution_count": 27,
   "metadata": {},
   "outputs": [
    {
     "name": "stdout",
     "output_type": "stream",
     "text": [
      "True\n",
      "True\n"
     ]
    }
   ],
   "source": [
    "# Cell 4: Test Adding Multiple Points\n",
    "delim = Delimitation()\n",
    "p1 = Point(\"p1\", 10, 20)\n",
    "p2 = Point(\"p2\", 15, 25)\n",
    "\n",
    "delim.add_point(p1)\n",
    "delim.add_point(p2)\n",
    "\n",
    "# Test that the points are added in the correct order\n",
    "points = delim.get_points()\n",
    "print(points == [p1, p2])\n",
    "\n",
    "# Test that the size reflects the correct number of points\n",
    "print(delim.size() == 2)"
   ]
  },
  {
   "cell_type": "code",
   "execution_count": 28,
   "metadata": {},
   "outputs": [
    {
     "name": "stdout",
     "output_type": "stream",
     "text": [
      "True\n",
      "True\n"
     ]
    }
   ],
   "source": [
    "# Cell 5: Test Adding Duplicate Points\n",
    "delim = Delimitation()\n",
    "p1 = Point(\"p1\", 10, 20)\n",
    "\n",
    "delim.add_point(p1)\n",
    "delim.add_point(p1)\n",
    "\n",
    "# Test that the duplicate point is added (if allowed)\n",
    "points = delim.get_points()\n",
    "print(points == [p1, p1])\n",
    "\n",
    "# Test that the size counts duplicates\n",
    "print(delim.size() == 2)\n"
   ]
  },
  {
   "cell_type": "code",
   "execution_count": 29,
   "metadata": {},
   "outputs": [
    {
     "name": "stdout",
     "output_type": "stream",
     "text": [
      "True\n",
      "True\n",
      "True\n"
     ]
    }
   ],
   "source": [
    "# Cell 6: Test Popping a Single Point\n",
    "delim = Delimitation()\n",
    "p1 = Point(\"p1\", 10, 20)\n",
    "\n",
    "delim.add_point(p1)\n",
    "popped = delim.pop_point()\n",
    "\n",
    "# Test that the correct point is popped\n",
    "print(popped == p1)\n",
    "\n",
    "# Test that the list is now empty\n",
    "print(delim.get_points() == [])\n",
    "\n",
    "# Test that the size is updated\n",
    "print(delim.size() == 0)\n"
   ]
  },
  {
   "cell_type": "code",
   "execution_count": 30,
   "metadata": {},
   "outputs": [
    {
     "name": "stdout",
     "output_type": "stream",
     "text": [
      "True\n",
      "True\n",
      "True\n",
      "True\n",
      "True\n"
     ]
    }
   ],
   "source": [
    "# Cell 7: Test Popping Multiple Points\n",
    "delim = Delimitation()\n",
    "p1 = Point(\"p1\", 10, 20)\n",
    "p2 = Point(\"p2\", 15, 25)\n",
    "\n",
    "delim.add_point(p1)\n",
    "delim.add_point(p2)\n",
    "\n",
    "# Pop the last added point\n",
    "popped = delim.pop_point()\n",
    "print(popped == p2)\n",
    "print(delim.get_points() == [p1])\n",
    "\n",
    "# Pop the first point\n",
    "popped = delim.pop_point()\n",
    "print(popped == p1)\n",
    "print(delim.get_points() == [])\n",
    "print(delim.size() == 0)\n"
   ]
  },
  {
   "cell_type": "code",
   "execution_count": 31,
   "metadata": {},
   "outputs": [
    {
     "name": "stdout",
     "output_type": "stream",
     "text": [
      "Caught expected IndexError when popping from an empty Delimitation\n"
     ]
    }
   ],
   "source": [
    "# Cell 8: Test Popping from an Empty Delimitation\n",
    "delim = Delimitation()\n",
    "\n",
    "try:\n",
    "    delim.pop_point()\n",
    "    print(\"Expected an exception when popping from an empty Delimitation\")\n",
    "except IndexError:\n",
    "    print(\"Caught expected IndexError when popping from an empty Delimitation\")\n"
   ]
  },
  {
   "cell_type": "code",
   "execution_count": 32,
   "metadata": {},
   "outputs": [
    {
     "name": "stdout",
     "output_type": "stream",
     "text": [
      "True\n"
     ]
    }
   ],
   "source": [
    "# Cell 9: Test Getting Points from an Empty Delimitation\n",
    "delim = Delimitation()\n",
    "\n",
    "# Test that an empty list is returned\n",
    "print(delim.get_points() == [])\n"
   ]
  },
  {
   "cell_type": "code",
   "execution_count": 33,
   "metadata": {},
   "outputs": [
    {
     "name": "stdout",
     "output_type": "stream",
     "text": [
      "True\n"
     ]
    }
   ],
   "source": [
    "# Cell 10: Test Getting Points in Order\n",
    "delim = Delimitation()\n",
    "p1 = Point(\"p1\", 10, 20)\n",
    "p2 = Point(\"p2\", 15, 25)\n",
    "\n",
    "delim.add_point(p1)\n",
    "delim.add_point(p2)\n",
    "\n",
    "# Test that points are returned in the correct order\n",
    "points = delim.get_points()\n",
    "print(points == [p1, p2])\n"
   ]
  },
  {
   "cell_type": "code",
   "execution_count": 34,
   "metadata": {},
   "outputs": [
    {
     "name": "stdout",
     "output_type": "stream",
     "text": [
      "True\n"
     ]
    }
   ],
   "source": [
    "# Cell 11: Test Getting Points Immutable\n",
    "delim = Delimitation()\n",
    "p1 = Point(\"p1\", 10, 20)\n",
    "delim.add_point(p1)\n",
    "\n",
    "points = delim.get_points()\n",
    "\n",
    "# Modify the returned list and check the internal state\n",
    "delim.add_point(Point(\"p2\", 15, 25))\n",
    "print(delim.get_points() == [p1, Point(\"p2\", 15, 25)])  # Should be true\n"
   ]
  },
  {
   "cell_type": "code",
   "execution_count": 35,
   "metadata": {},
   "outputs": [
    {
     "name": "stdout",
     "output_type": "stream",
     "text": [
      "True\n"
     ]
    }
   ],
   "source": [
    "# Cell 12: Test Getting First Point\n",
    "delim = Delimitation()\n",
    "p1 = Point(\"p1\", 10, 20)\n",
    "delim.add_point(p1)\n",
    "\n",
    "# Test that it returns the first point\n",
    "print(delim.get_first() == p1)\n"
   ]
  },
  {
   "cell_type": "code",
   "execution_count": 36,
   "metadata": {},
   "outputs": [
    {
     "name": "stdout",
     "output_type": "stream",
     "text": [
      "True\n"
     ]
    }
   ],
   "source": [
    "# Cell 13: Test Getting First Point with Multiple Points\n",
    "delim = Delimitation()\n",
    "p1 = Point(\"p1\", 10, 20)\n",
    "p2 = Point(\"p2\", 15, 25)\n",
    "\n",
    "delim.add_point(p1)\n",
    "delim.add_point(p2)\n",
    "\n",
    "# Test that it returns the first point\n",
    "print(delim.get_first() == p1)\n"
   ]
  },
  {
   "cell_type": "code",
   "execution_count": 37,
   "metadata": {},
   "outputs": [
    {
     "name": "stdout",
     "output_type": "stream",
     "text": [
      "True\n"
     ]
    }
   ],
   "source": [
    "# Cell 14: Test Getting First Point when No Points Exist\n",
    "delim = Delimitation()\n",
    "\n",
    "print(delim.get_first() == None)\n"
   ]
  },
  {
   "cell_type": "code",
   "execution_count": 38,
   "metadata": {},
   "outputs": [
    {
     "name": "stdout",
     "output_type": "stream",
     "text": [
      "True\n"
     ]
    }
   ],
   "source": [
    "# Cell 15: Test Getting Last Two Points with Exactly Two Points\n",
    "delim = Delimitation()\n",
    "p1 = Point(\"p1\", 10, 20)\n",
    "p2 = Point(\"p2\", 15, 25)\n",
    "\n",
    "delim.add_point(p1)\n",
    "delim.add_point(p2)\n",
    "\n",
    "# Test that it returns the last two points in the correct order\n",
    "print(delim.get_last_two() == (p1, p2))\n"
   ]
  },
  {
   "cell_type": "code",
   "execution_count": 39,
   "metadata": {},
   "outputs": [
    {
     "name": "stdout",
     "output_type": "stream",
     "text": [
      "True\n"
     ]
    }
   ],
   "source": [
    "# Cell 16: Test Getting Last Two Points with More Than Two Points\n",
    "delim = Delimitation()\n",
    "p1 = Point(\"p1\", 10, 20)\n",
    "p2 = Point(\"p2\", 15, 25)\n",
    "p3 = Point(\"p3\", 30, 35)\n",
    "\n",
    "delim.add_point(p1)\n",
    "delim.add_point(p2)\n",
    "delim.add_point(p3)\n",
    "\n",
    "# Test that it returns the last two points, p2 and p3\n",
    "print(delim.get_last_two() == (p2, p3))\n"
   ]
  },
  {
   "cell_type": "code",
   "execution_count": 40,
   "metadata": {},
   "outputs": [
    {
     "name": "stdout",
     "output_type": "stream",
     "text": [
      "True\n"
     ]
    }
   ],
   "source": [
    "# Cell 17: Test Getting Last Two Points with Less Than Two Points\n",
    "delim = Delimitation()\n",
    "p1 = Point(\"p1\", 10, 20)\n",
    "\n",
    "delim.add_point(p1)\n",
    "\n",
    "print(delim.get_last_two() == (None, p1))\n"
   ]
  },
  {
   "cell_type": "code",
   "execution_count": 41,
   "metadata": {},
   "outputs": [
    {
     "name": "stdout",
     "output_type": "stream",
     "text": [
      "Multiple test files created in 'data' folder.\n"
     ]
    }
   ],
   "source": [
    "import os\n",
    "import random\n",
    "\n",
    "# Create a directory to store the files\n",
    "data_folder = \"data\"\n",
    "os.makedirs(data_folder, exist_ok=True)\n",
    "\n",
    "\n",
    "# Function to generate random coordinates\n",
    "def generate_random_coordinates(n, lat_range=(-90, 90), lon_range=(-180, 180)):\n",
    "    points = []\n",
    "    for i in range(n):\n",
    "        lat = round(random.uniform(*lat_range), 6)  # Random latitude\n",
    "        lon = round(random.uniform(*lon_range), 6)  # Random longitude\n",
    "        points.append(f\"p{i+1} {lat} {lon}\")\n",
    "    return points\n",
    "\n",
    "\n",
    "# Create multiple files with different configurations inside the 'data' folder\n",
    "def create_test_files():\n",
    "    # Single large file with random points\n",
    "    large_random_points = generate_random_coordinates(1000)  # 1000 random points\n",
    "    with open(os.path.join(data_folder, \"large_random_points.txt\"), \"w\") as f:\n",
    "        f.write(\"\\n\".join(large_random_points))\n",
    "\n",
    "    # File with points clustered near (0, 0)\n",
    "    clustered_points = generate_random_coordinates(500, lat_range=(-1, 1), lon_range=(-1, 1))\n",
    "    with open(os.path.join(data_folder, \"clustered_points.txt\"), \"w\") as f:\n",
    "        f.write(\"\\n\".join(clustered_points))\n",
    "\n",
    "    # File with points along the equator (latitude = 0, varying longitude)\n",
    "    equator_points = [f\"p{i+1} 0 {round(lon, 6)}\" for i, lon in enumerate(range(-180, 180, 1))]\n",
    "    with open(os.path.join(data_folder, \"equator_points.txt\"), \"w\") as f:\n",
    "        f.write(\"\\n\".join(equator_points))\n",
    "\n",
    "    # File with points along a meridian (longitude = 0, varying latitude)\n",
    "    meridian_points = [f\"p{i+1} {round(lat, 6)} 0\" for i, lat in enumerate(range(-90, 91, 1))]\n",
    "    with open(os.path.join(data_folder, \"meridian_points.txt\"), \"w\") as f:\n",
    "        f.write(\"\\n\".join(meridian_points))\n",
    "\n",
    "    # File with duplicate points\n",
    "    duplicate_points = [\"p1 10 10\\n\" * 500]\n",
    "    with open(os.path.join(data_folder, \"duplicate_points_large.txt\"), \"w\") as f:\n",
    "        f.write(\"\\n\".join(duplicate_points))\n",
    "\n",
    "    # File with points near extreme coordinates (edge of coordinate system)\n",
    "    extreme_points = [\n",
    "        \"p1 -89.999999 179.999999\",\n",
    "        \"p2 89.999999 -179.999999\",\n",
    "        \"p3 -89.999999 -179.999999\",\n",
    "        \"p4 89.999999 179.999999\",\n",
    "    ] * 250\n",
    "    with open(os.path.join(data_folder, \"extreme_points_large.txt\"), \"w\") as f:\n",
    "        f.write(\"\\n\".join(extreme_points))\n",
    "\n",
    "    print(\"Multiple test files created in 'data' folder.\")\n",
    "\n",
    "\n",
    "# Run the function to create test files in the 'data' folder\n",
    "create_test_files()"
   ]
  },
  {
   "cell_type": "code",
   "execution_count": 43,
   "metadata": {},
   "outputs": [
    {
     "name": "stdout",
     "output_type": "stream",
     "text": [
      "Caught expected ValueError when calculating area with less than 3 points\n",
      "A polygon must have at least 3 points to calculate the area.\n"
     ]
    }
   ],
   "source": [
    "# Cell 18: Test Area Calculation with Less Than Three Points\n",
    "from math import e\n",
    "\n",
    "\n",
    "delim = Delimitation()\n",
    "p1 = Point(\"p1\", 0, 0)\n",
    "p2 = Point(\"p2\", 10, 10)\n",
    "\n",
    "delim.add_point(p1)\n",
    "delim.add_point(p2)\n",
    "\n",
    "# Test that ValueError is raised with less than 3 points\n",
    "try:\n",
    "    delim.get_area()\n",
    "    print(\"Expected a ValueError when calculating area with less than 3 points\")\n",
    "except ValueError as e:\n",
    "    print(\"Caught expected ValueError when calculating area with less than 3 points\")\n",
    "    print(e)\n"
   ]
  },
  {
   "cell_type": "code",
   "execution_count": 44,
   "metadata": {},
   "outputs": [
    {
     "name": "stdout",
     "output_type": "stream",
     "text": [
      "Caught expected ValueError: It is impossible to form a polygon with collinear points.\n"
     ]
    }
   ],
   "source": [
    "# Cell 19: Test Area Calculation with Collinear Points\n",
    "delim = Delimitation()\n",
    "p1 = Point(\"p1\", 0, 0)\n",
    "p2 = Point(\"p2\", 10, 10)\n",
    "p3 = Point(\"p3\", 20, 20)  # Collinear with p1 and p2\n",
    "\n",
    "delim.add_point(p1)\n",
    "delim.add_point(p2)\n",
    "delim.add_point(p3)\n",
    "\n",
    "# Test that ValueError is raised for collinear points\n",
    "try:\n",
    "    delim.get_area()\n",
    "    print(\"Expected ValueError when calculating area with collinear points\")\n",
    "except ValueError as e:\n",
    "    print(f\"Caught expected ValueError: {e}\")\n"
   ]
  },
  {
   "cell_type": "code",
   "execution_count": 45,
   "metadata": {},
   "outputs": [
    {
     "name": "stdout",
     "output_type": "stream",
     "text": [
      "True\n",
      "True\n",
      "True\n",
      "True\n"
     ]
    }
   ],
   "source": [
    "# Cell 20: Test Copy Independence\n",
    "delim = Delimitation()\n",
    "p1 = Point(\"p1\", 10, 20)\n",
    "p2 = Point(\"p2\", 15, 25)\n",
    "\n",
    "delim.add_point(p1)\n",
    "delim.add_point(p2)\n",
    "\n",
    "# Create a copy\n",
    "delim_copy = delim.copy()\n",
    "\n",
    "# Test that the copied points are identical but independent\n",
    "print(delim.get_points() == delim_copy.get_points())\n",
    "\n",
    "# Modify the copy and check that the original is not affected\n",
    "p3 = Point(\"p3\", 30, 35)\n",
    "delim_copy.add_point(p3)\n",
    "\n",
    "print(delim.get_points() != delim_copy.get_points())\n",
    "print(delim.size() == 2)\n",
    "print(delim_copy.size() == 3)\n"
   ]
  },
  {
   "cell_type": "code",
   "execution_count": 46,
   "metadata": {},
   "outputs": [
    {
     "name": "stdout",
     "output_type": "stream",
     "text": [
      "True\n"
     ]
    }
   ],
   "source": [
    "# Cell 21: Test Intersecting Segments\n",
    "delim = Delimitation()\n",
    "p1 = Point(\"p1\", 0, 0)\n",
    "p2 = Point(\"p2\", 10, 10)\n",
    "p3 = Point(\"p3\", 0, 10)\n",
    "p4 = Point(\"p4\", 10, 0)\n",
    "\n",
    "# These two segments intersect at (5, 5)\n",
    "print(delim.intersects(p1, p2, p3, p4))\n"
   ]
  },
  {
   "cell_type": "code",
   "execution_count": 47,
   "metadata": {},
   "outputs": [
    {
     "name": "stdout",
     "output_type": "stream",
     "text": [
      "True\n"
     ]
    }
   ],
   "source": [
    "# Cell 22: Test Non-Intersecting Segments\n",
    "delim = Delimitation()\n",
    "p1 = Point(\"p1\", 0, 0)\n",
    "p2 = Point(\"p2\", 10, 10)\n",
    "p3 = Point(\"p3\", 20, 20)\n",
    "p4 = Point(\"p4\", 30, 30)\n",
    "\n",
    "# These segments do not intersect\n",
    "print(not delim.intersects(p1, p2, p3, p4))"
   ]
  },
  {
   "cell_type": "code",
   "execution_count": 48,
   "metadata": {},
   "outputs": [
    {
     "name": "stdout",
     "output_type": "stream",
     "text": [
      "True\n"
     ]
    }
   ],
   "source": [
    "# Cell 23: Test Parallel Segments\n",
    "delim = Delimitation()\n",
    "p1 = Point(\"p1\", 0, 0)\n",
    "p2 = Point(\"p2\", 10, 0)\n",
    "p3 = Point(\"p3\", 0, 10)\n",
    "p4 = Point(\"p4\", 10, 10)\n",
    "\n",
    "# Parallel lines should not intersect\n",
    "print(not delim.intersects(p1, p2, p3, p4))\n"
   ]
  },
  {
   "cell_type": "code",
   "execution_count": 49,
   "metadata": {},
   "outputs": [
    {
     "name": "stdout",
     "output_type": "stream",
     "text": [
      "The autoreload extension is already loaded. To reload it, use:\n",
      "  %reload_ext autoreload\n",
      "270.0\n",
      "90.87038467497996\n",
      "315.1092215479925\n",
      "45.098738076563734\n"
     ]
    }
   ],
   "source": [
    "%load_ext autoreload\n",
    "%autoreload 2\n",
    "from src.point import Point, Vector\n",
    "\n",
    "p_A = Point(\"A\", 10, 0)\n",
    "p_B = Point(\"B\", 10, 10)\n",
    "p_C = Point(\"C\", 5, 5)\n",
    "p_D = Point(\"D\", 0, 0)\n",
    "p_E = Point(\"E\", 0, 10)\n",
    "print(p_A.get_forward_angle(p_D, p_B))  # 270.0\n",
    "print(p_B.get_forward_angle(p_E, p_A))  # 90.87038467497996\n",
    "print(p_A.get_forward_angle(p_D, p_C))  # 315.1092215479925\n",
    "print(p_B.get_forward_angle(p_E, p_C))  # 45.098738076563734"
   ]
  },
  {
   "cell_type": "code",
   "execution_count": 50,
   "metadata": {},
   "outputs": [
    {
     "name": "stdout",
     "output_type": "stream",
     "text": [
      "True\n"
     ]
    }
   ],
   "source": [
    "# Cell 24: Test Overlapping Segments\n",
    "delim = Delimitation()\n",
    "p1 = Point(\"p1\", 0, 0)\n",
    "p2 = Point(\"p2\", 10, 10)\n",
    "p3 = Point(\"p3\", 5, 5)\n",
    "p4 = Point(\"p4\", 15, 15)\n",
    "\n",
    "# Overlapping segments should not be considered intersecting\n",
    "print(not delim.intersects(p1, p2, p3, p4))\n"
   ]
  },
  {
   "cell_type": "code",
   "execution_count": 51,
   "metadata": {},
   "outputs": [
    {
     "name": "stdout",
     "output_type": "stream",
     "text": [
      "True\n"
     ]
    }
   ],
   "source": [
    "# Cell 25: Test Crossing Delimitation with Crossing Segment\n",
    "delim = Delimitation()\n",
    "p1 = Point(\"p1\", 0, 0)\n",
    "p2 = Point(\"p2\", 10, 0)\n",
    "p3 = Point(\"p3\", 9, 10)\n",
    "p4 = Point(\"p4\", 5, 5)\n",
    "\n",
    "delim.add_point(p1)\n",
    "delim.add_point(p2)\n",
    "\n",
    "# This new segment crosses the existing line (p1 -> p2)\n",
    "print(not delim.crosses_delimitation(p4, p3))\n"
   ]
  },
  {
   "cell_type": "code",
   "execution_count": 52,
   "metadata": {},
   "outputs": [
    {
     "name": "stdout",
     "output_type": "stream",
     "text": [
      "True\n"
     ]
    }
   ],
   "source": [
    "# Cell 26: Test Crossing Delimitation with No Crossing\n",
    "delim = Delimitation()\n",
    "p1 = Point(\"p1\", 0, 0)\n",
    "p2 = Point(\"p2\", 10, 0)\n",
    "p3 = Point(\"p3\", 10, 10)\n",
    "\n",
    "delim.add_point(p1)\n",
    "delim.add_point(p2)\n",
    "\n",
    "print(not delim.crosses_delimitation(p2, p3))\n"
   ]
  },
  {
   "cell_type": "code",
   "execution_count": 53,
   "metadata": {},
   "outputs": [
    {
     "name": "stdout",
     "output_type": "stream",
     "text": [
      "True\n"
     ]
    }
   ],
   "source": [
    "# Cell 27: Test Crossing Delimitation Touching Corner\n",
    "delim = Delimitation()\n",
    "p1 = Point(\"p1\", 0, 0)\n",
    "p2 = Point(\"p2\", 10, 0)\n",
    "p3 = Point(\"p3\", 0, 10)\n",
    "\n",
    "delim.add_point(p1)\n",
    "delim.add_point(p2)\n",
    "\n",
    "# This new segment touches p1 but does not cross\n",
    "print(not delim.crosses_delimitation(p3, p1))\n"
   ]
  },
  {
   "cell_type": "code",
   "execution_count": 54,
   "metadata": {},
   "outputs": [
    {
     "name": "stdout",
     "output_type": "stream",
     "text": [
      "True\n"
     ]
    }
   ],
   "source": [
    "# Cell 28: Test Size of Empty Delimitation\n",
    "delim = Delimitation()\n",
    "# Initially, the size should be 0\n",
    "print(delim.size() == 0)\n"
   ]
  },
  {
   "cell_type": "code",
   "execution_count": 55,
   "metadata": {},
   "outputs": [
    {
     "name": "stdout",
     "output_type": "stream",
     "text": [
      "True\n"
     ]
    }
   ],
   "source": [
    "# Cell 29: Test Size After Adding Points\n",
    "delim = Delimitation()\n",
    "p1 = Point(\"p1\", 0, 0)\n",
    "p2 = Point(\"p2\", 10, 10)\n",
    "\n",
    "delim.add_point(p1)\n",
    "delim.add_point(p2)\n",
    "\n",
    "# After adding two points, the size should be 2\n",
    "print(delim.size() == 2)\n"
   ]
  },
  {
   "cell_type": "code",
   "execution_count": 56,
   "metadata": {},
   "outputs": [
    {
     "name": "stdout",
     "output_type": "stream",
     "text": [
      "True\n"
     ]
    }
   ],
   "source": [
    "# Cell 30: Test Size After Removing Points\n",
    "delim = Delimitation()\n",
    "p1 = Point(\"p1\", 0, 0)\n",
    "p2 = Point(\"p2\", 10, 10)\n",
    "\n",
    "delim.add_point(p1)\n",
    "delim.add_point(p2)\n",
    "delim.pop_point()  # Remove one point\n",
    "\n",
    "# After removing one point, the size should be 1\n",
    "print(delim.size() == 1)\n"
   ]
  },
  {
   "cell_type": "code",
   "execution_count": 57,
   "metadata": {},
   "outputs": [
    {
     "name": "stdout",
     "output_type": "stream",
     "text": [
      "True\n"
     ]
    }
   ],
   "source": [
    "# Cell 31: Test Getting First Point with One Point\n",
    "delim = Delimitation()\n",
    "p1 = Point(\"p1\", 0, 0)\n",
    "delim.add_point(p1)\n",
    "\n",
    "# First point should be p1\n",
    "print(delim.get_first() == p1)\n"
   ]
  },
  {
   "cell_type": "code",
   "execution_count": 58,
   "metadata": {},
   "outputs": [
    {
     "name": "stdout",
     "output_type": "stream",
     "text": [
      "True\n"
     ]
    }
   ],
   "source": [
    "# Cell 32: Test Getting First Point with Multiple Points\n",
    "delim = Delimitation()\n",
    "p1 = Point(\"p1\", 0, 0)\n",
    "p2 = Point(\"p2\", 10, 10)\n",
    "\n",
    "delim.add_point(p1)\n",
    "delim.add_point(p2)\n",
    "\n",
    "# First point should still be p1\n",
    "print(delim.get_first() == p1)\n"
   ]
  },
  {
   "cell_type": "code",
   "execution_count": 59,
   "metadata": {},
   "outputs": [],
   "source": [
    "# Cell 33: Test Get First with No Points\n",
    "delim = Delimitation()\n",
    "\n",
    "try:\n",
    "    assert delim.get_first() is None, \"Expected None when calling get_first on an empty Delimitation\"\n",
    "except IndexError:\n",
    "    pass  # Assuming IndexError or a custom exception is raised\n"
   ]
  },
  {
   "cell_type": "code",
   "execution_count": 60,
   "metadata": {},
   "outputs": [
    {
     "data": {
      "image/png": "[encoded data removed]",
      "text/plain": [
       "<Figure size 640x480 with 1 Axes>"
      ]
     },
     "metadata": {},
     "output_type": "display_data"
    }
   ],
   "source": [
    "# Cell 34: Test Show with No Points\n",
    "from unittest.mock import patch\n",
    "\n",
    "delim = Delimitation()\n",
    "\n",
    "with patch(\"matplotlib.pyplot.show\") as mock_show:\n",
    "    delim.show(ValidPoints([]))\n",
    "    # Ensure the plotting method was called even with no points\n",
    "    mock_show.assert_called()\n"
   ]
  },
  {
   "cell_type": "code",
   "execution_count": 61,
   "metadata": {},
   "outputs": [
    {
     "data": {
      "image/png": "[encoded data removed]",
      "text/plain": [
       "<Figure size 640x480 with 1 Axes>"
      ]
     },
     "metadata": {},
     "output_type": "display_data"
    }
   ],
   "source": [
    "# Cell 35: Test Show with Points\n",
    "delim = Delimitation()\n",
    "p1 = Point(\"p1\", 0, 0)\n",
    "p2 = Point(\"p2\", 10, 10)\n",
    "\n",
    "delim.add_point(p1)\n",
    "delim.add_point(p2)\n",
    "\n",
    "valid_points = ValidPoints([p1, p2])\n",
    "\n",
    "with patch(\"matplotlib.pyplot.show\") as mock_show:\n",
    "    delim.show(valid_points)\n",
    "    # Ensure the plotting method was called\n",
    "    mock_show.assert_called()\n"
   ]
  },
  {
   "cell_type": "code",
   "execution_count": 62,
   "metadata": {},
   "outputs": [
    {
     "name": "stdout",
     "output_type": "stream",
     "text": [
      "True\n"
     ]
    }
   ],
   "source": [
    "# Cell 36: Test Equality with Same Order\n",
    "delim1 = Delimitation()\n",
    "delim2 = Delimitation()\n",
    "\n",
    "p1 = Point(\"p1\", 0, 0)\n",
    "p2 = Point(\"p2\", 10, 10)\n",
    "\n",
    "delim1.add_point(p1)\n",
    "delim1.add_point(p2)\n",
    "\n",
    "delim2.add_point(p1)\n",
    "delim2.add_point(p2)\n",
    "\n",
    "# Both delimitations have the same points in the same order\n",
    "print(delim1 == delim2)\n"
   ]
  },
  {
   "cell_type": "code",
   "execution_count": 63,
   "metadata": {},
   "outputs": [
    {
     "name": "stdout",
     "output_type": "stream",
     "text": [
      "True\n"
     ]
    }
   ],
   "source": [
    "# Cell 37: Test Equality with Different Points\n",
    "delim1 = Delimitation()\n",
    "delim2 = Delimitation()\n",
    "\n",
    "p1 = Point(\"p1\", 0, 0)\n",
    "p2 = Point(\"p2\", 10, 10)\n",
    "p3 = Point(\"p3\", 5, 5)\n",
    "\n",
    "delim1.add_point(p1)\n",
    "delim1.add_point(p2)\n",
    "\n",
    "delim2.add_point(p1)\n",
    "delim2.add_point(p3)\n",
    "\n",
    "# Different points in delimitations should make them unequal\n",
    "print(delim1 != delim2)\n"
   ]
  },
  {
   "cell_type": "code",
   "execution_count": 64,
   "metadata": {},
   "outputs": [
    {
     "name": "stdout",
     "output_type": "stream",
     "text": [
      "True\n"
     ]
    }
   ],
   "source": [
    "# Cell 38: Test Equality with Different Order\n",
    "delim1 = Delimitation()\n",
    "delim2 = Delimitation()\n",
    "\n",
    "p1 = Point(\"p1\", 0, 0)\n",
    "p2 = Point(\"p2\", 10, 10)\n",
    "p3 = Point(\"p3\", 5, 5)\n",
    "\n",
    "# Delimitation 1: add points in order p1, p2, p3\n",
    "delim1.add_point(p1)\n",
    "delim1.add_point(p2)\n",
    "delim1.add_point(p3)\n",
    "\n",
    "# Delimitation 2: add points in a different order but forming the same polygon\n",
    "delim2.add_point(p3)\n",
    "delim2.add_point(p2)\n",
    "delim2.add_point(p1)\n",
    "\n",
    "# Test that different order does not affect equality\n",
    "print(delim1 == delim2)\n"
   ]
  },
  {
   "cell_type": "code",
   "execution_count": 65,
   "metadata": {},
   "outputs": [
    {
     "name": "stdout",
     "output_type": "stream",
     "text": [
      "True\n"
     ]
    }
   ],
   "source": [
    "# Cell 39: Test Equal Triangles\n",
    "delim1 = Delimitation()\n",
    "delim2 = Delimitation()\n",
    "\n",
    "# Triangle A\n",
    "points1 = [Point(\"p1\", 0, 0), Point(\"p2\", 0, 10), Point(\"p3\", 10, 0)]\n",
    "# Triangle A but in different order\n",
    "points2 = [Point(\"p3\", 10, 0), Point(\"p1\", 0, 0), Point(\"p2\", 0, 10)]\n",
    "\n",
    "for point in points1:\n",
    "    delim1.add_point(point)\n",
    "for point in points2:\n",
    "    delim2.add_point(point)\n",
    "\n",
    "print(delim1 == delim2)  # Should be True\n"
   ]
  },
  {
   "cell_type": "code",
   "execution_count": 66,
   "metadata": {},
   "outputs": [
    {
     "name": "stdout",
     "output_type": "stream",
     "text": [
      "True\n",
      "True\n",
      "False\n",
      "False\n",
      "True\n"
     ]
    }
   ],
   "source": [
    "# Cell 40: Test Intersect\n",
    "p_A = Point(\"A\", -1, 10)\n",
    "p_B = Point(\"B\", 10, 10)\n",
    "p_C = Point(\"C\", 5, 5)\n",
    "p_D = Point(\"D\", 0, 0)\n",
    "\n",
    "p_1 = Point(\"A\", 0, -1)\n",
    "p_2 = Point(\"B\", 0, -2)\n",
    "# add pD\n",
    "p_3 = Point(\"C\", 7, 11)\n",
    "p_4 = Point(\"D\", 5, 15)\n",
    "p_5 = Point(\"D\", 4, 14)\n",
    "\n",
    "d = Delimitation()\n",
    "d.add_point(p_1)\n",
    "d.add_point(p_2)\n",
    "d.add_point(p_D)\n",
    "d.add_point(p_3)\n",
    "d.add_point(p_4)\n",
    "d.add_point(p_5)\n",
    "\n",
    "print(d.crosses_delimitation(p_A, p_B))  # Should print True\n",
    "print(d.crosses_delimitation(p_A, p_D))  # Should print True\n",
    "print(d.crosses_delimitation(p_B, p_C))  # Should print False\n",
    "print(d.crosses_delimitation(p_A, d.get_first()))  # Should print False\n",
    "print(d.crosses_delimitation(p_1, d.get_last_two()[1]))  # Should print True\n"
   ]
  },
  {
   "cell_type": "code",
   "execution_count": 67,
   "metadata": {},
   "outputs": [
    {
     "name": "stdout",
     "output_type": "stream",
     "text": [
      "True\n"
     ]
    }
   ],
   "source": [
    "# Cell 41: Test Equal Polygons with Rotations\n",
    "delim1 = Delimitation()\n",
    "delim2 = Delimitation()\n",
    "\n",
    "# Create a square\n",
    "points1 = [Point(\"p1\", 0, 0), Point(\"p2\", 0, 10), Point(\"p3\", 10, 10), Point(\"p4\", 10, 0)]\n",
    "# Rotated version of the same square\n",
    "points2 = [Point(\"p2\", 0, 10), Point(\"p3\", 10, 10), Point(\"p4\", 10, 0), Point(\"p1\", 0, 0)]\n",
    "\n",
    "for point in points1:\n",
    "    delim1.add_point(point)\n",
    "for point in points2:\n",
    "    delim2.add_point(point)\n",
    "\n",
    "print(delim1 == delim2)  # Should be True\n"
   ]
  },
  {
   "cell_type": "code",
   "execution_count": 68,
   "metadata": {},
   "outputs": [
    {
     "name": "stdout",
     "output_type": "stream",
     "text": [
      "True\n"
     ]
    }
   ],
   "source": [
    "# Cell 42: Test Not Equal Polygons\n",
    "delim1 = Delimitation()\n",
    "delim2 = Delimitation()\n",
    "\n",
    "# Triangle A\n",
    "points1 = [Point(\"p1\", 0, 0), Point(\"p2\", 0, 10), Point(\"p3\", 10, 0)]\n",
    "# A different triangle\n",
    "points2 = [Point(\"p1\", 0, 0), Point(\"p2\", 5, 5), Point(\"p3\", 10, 0)]\n",
    "\n",
    "for point in points1:\n",
    "    delim1.add_point(point)\n",
    "for point in points2:\n",
    "    delim2.add_point(point)\n",
    "\n",
    "print(delim1 != delim2)\n"
   ]
  },
  {
   "cell_type": "code",
   "execution_count": 69,
   "metadata": {},
   "outputs": [
    {
     "name": "stdout",
     "output_type": "stream",
     "text": [
      "True\n",
      "True\n"
     ]
    }
   ],
   "source": [
    "# Cell 43: Test Add Valid Point\n",
    "delim = Delimitation()\n",
    "point = Point(\"p1\", 0, 0)\n",
    "\n",
    "# Add a valid point\n",
    "delim.add_point(point)\n",
    "\n",
    "# Check if the point was added\n",
    "print(len(delim.get_points()) == 1)\n",
    "print(delim.get_points()[0] == point)\n"
   ]
  },
  {
   "cell_type": "code",
   "execution_count": 70,
   "metadata": {},
   "outputs": [
    {
     "name": "stdout",
     "output_type": "stream",
     "text": [
      "True\n",
      "True\n",
      "True\n",
      "True\n"
     ]
    }
   ],
   "source": [
    "# Cell 44: Test Add Multiple Points\n",
    "delim = Delimitation()\n",
    "points = [Point(\"p1\", 0, 0), Point(\"p2\", 0, 10), Point(\"p3\", 10, 0)]\n",
    "\n",
    "# Add multiple valid points\n",
    "for point in points:\n",
    "    delim.add_point(point)\n",
    "\n",
    "# Check if all points were added\n",
    "print(len(delim.get_points()) == 3)\n",
    "for i, point in enumerate(points):\n",
    "    print(delim.get_points()[i] == point)\n"
   ]
  },
  {
   "cell_type": "code",
   "execution_count": 71,
   "metadata": {},
   "outputs": [
    {
     "name": "stdout",
     "output_type": "stream",
     "text": [
      "Caught expected ValueError: Only Point objects can be added to the Delimitation object\n"
     ]
    }
   ],
   "source": [
    "# Cell 45: Test Add Invalid Point Type\n",
    "delim = Delimitation()\n",
    "\n",
    "try:\n",
    "    delim.add_point(\"Not a Point\")  # Trying to add a string\n",
    "except ValueError as e:\n",
    "    print(\"Caught expected ValueError:\", e)\n"
   ]
  },
  {
   "cell_type": "code",
   "execution_count": 72,
   "metadata": {},
   "outputs": [
    {
     "name": "stdout",
     "output_type": "stream",
     "text": [
      "Caught expected ValueError: Only Point objects can be added to the Delimitation object\n"
     ]
    }
   ],
   "source": [
    "# Cell 46: Test Add Integer Instead of Point\n",
    "delim = Delimitation()\n",
    "\n",
    "try:\n",
    "    delim.add_point(123)  # Trying to add an integer\n",
    "except ValueError as e:\n",
    "    print(\"Caught expected ValueError:\", e)\n"
   ]
  },
  {
   "cell_type": "code",
   "execution_count": 73,
   "metadata": {},
   "outputs": [
    {
     "name": "stdout",
     "output_type": "stream",
     "text": [
      "Caught expected ValueError: Only Point objects can be added to the Delimitation object\n"
     ]
    }
   ],
   "source": [
    "# Cell 47: Test Add None as Point\n",
    "delim = Delimitation()\n",
    "\n",
    "try:\n",
    "    delim.add_point(None)  # Trying to add None\n",
    "except ValueError as e:\n",
    "    print(\"Caught expected ValueError:\", e)\n"
   ]
  },
  {
   "cell_type": "code",
   "execution_count": 74,
   "metadata": {},
   "outputs": [
    {
     "name": "stdout",
     "output_type": "stream",
     "text": [
      "True\n",
      "True\n",
      "False\n"
     ]
    }
   ],
   "source": [
    "# Test: Equality of Delimitations\n",
    "delim1 = Delimitation()\n",
    "delim2 = Delimitation()\n",
    "delim3 = Delimitation()\n",
    "delim4 = Delimitation()\n",
    "\n",
    "p1 = Point(\"p1\", 0.0, 10.0)\n",
    "p2 = Point(\"p2\", 10.0, 10.0)\n",
    "p4 = Point(\"p4\", 4.0, 5.0)\n",
    "p6 = Point(\"p6\", 1.0, 20.0)\n",
    "p8 = Point(\"p8\", 12.0, -1.0)\n",
    "\n",
    "# Create the first delimitation (d1)\n",
    "delim1.add_point(p1)\n",
    "delim1.add_point(p4)\n",
    "delim1.add_point(p8)\n",
    "delim1.add_point(p2)\n",
    "delim1.add_point(p6)\n",
    "\n",
    "# Create the second delimitation (d2)\n",
    "delim2.add_point(p8)\n",
    "delim2.add_point(p2)\n",
    "delim2.add_point(p6)\n",
    "delim2.add_point(p1)\n",
    "delim2.add_point(p4)\n",
    "\n",
    "# Create the third delimitation (d3)\n",
    "delim3.add_point(p4)\n",
    "delim3.add_point(p1)\n",
    "delim3.add_point(p6)\n",
    "delim3.add_point(p2)\n",
    "delim3.add_point(p8)\n",
    "\n",
    "# Create the fourth delimitation (d4)\n",
    "delim4.add_point(p4)\n",
    "delim4.add_point(p1)\n",
    "delim4.add_point(p6)\n",
    "delim4.add_point(p2)\n",
    "\n",
    "# Verify the points in each delimitation\n",
    "print(delim1 == delim2)  # Should print True\n",
    "print(delim1 == delim3)  # Should print True\n",
    "print(delim1 == delim4)  # Should print False\n"
   ]
  },
  {
   "cell_type": "code",
   "execution_count": 75,
   "metadata": {},
   "outputs": [
    {
     "name": "stdout",
     "output_type": "stream",
     "text": [
      "True\n"
     ]
    }
   ],
   "source": [
    "# Test: Empty Delimitation (test_get_points_empty_2)\n",
    "d1 = Delimitation()\n",
    "print(d1.get_points() == [])\n"
   ]
  },
  {
   "cell_type": "code",
   "execution_count": 76,
   "metadata": {},
   "outputs": [
    {
     "name": "stdout",
     "output_type": "stream",
     "text": [
      "True\n"
     ]
    }
   ],
   "source": [
    "# Test: Add and Get First Point (test_add_and_get_first_point_2)\n",
    "d1 = Delimitation()\n",
    "p1 = Point(\"p01\", 10, 0)\n",
    "p2 = Point(\"p02\", 10, 10)\n",
    "\n",
    "d1.add_point(p1)\n",
    "d1.add_point(p2)\n",
    "\n",
    "# Check the first point\n",
    "print(d1.get_first() == p1)\n"
   ]
  },
  {
   "cell_type": "code",
   "execution_count": 77,
   "metadata": {},
   "outputs": [
    {
     "name": "stdout",
     "output_type": "stream",
     "text": [
      "True\n"
     ]
    }
   ],
   "source": [
    "# Test: Get Last Two Points (test_get_last_two_points_2)\n",
    "d1 = Delimitation()\n",
    "p1 = Point(\"p01\", 10, 0)\n",
    "p2 = Point(\"p02\", 10, 10)\n",
    "\n",
    "d1.add_point(p1)\n",
    "d1.add_point(p2)\n",
    "\n",
    "# Check the last two points\n",
    "print(d1.get_last_two() == (p1, p2))\n"
   ]
  },
  {
   "cell_type": "code",
   "execution_count": 78,
   "metadata": {},
   "outputs": [
    {
     "name": "stdout",
     "output_type": "stream",
     "text": [
      "True\n",
      "True\n"
     ]
    }
   ],
   "source": [
    "d1 = Delimitation()\n",
    "p1 = Point(\"p01\", 10, 0)\n",
    "p2 = Point(\"p02\", 10, 10)\n",
    "\n",
    "d1.add_point(p1)\n",
    "d1.add_point(p2)\n",
    "\n",
    "# Pop last point\n",
    "print(d1.pop_point() == p2)\n",
    "\n",
    "# After popping, only the first point should remain\n",
    "print(d1.get_points() == [p1])"
   ]
  },
  {
   "cell_type": "code",
   "execution_count": 79,
   "metadata": {},
   "outputs": [
    {
     "name": "stdout",
     "output_type": "stream",
     "text": [
      "True\n"
     ]
    }
   ],
   "source": [
    "# area_prof_2():\n",
    "\n",
    "d2 = Delimitation()\n",
    "\n",
    "# Create the points and add them to the delimitation\n",
    "pA = Point(\"pA\", -10, -10)\n",
    "pB = Point(\"pB\", 10, -10)\n",
    "pC = Point(\"pC\", 10, 10)\n",
    "pE = Point(\"pE\", 0, -9.9)\n",
    "pD = Point(\"pD\", -10, 10)\n",
    "\n",
    "d2.add_point(pA)\n",
    "d2.add_point(pB)\n",
    "d2.add_point(pC)\n",
    "d2.add_point(pE)\n",
    "d2.add_point(pD)\n",
    "print(d2.get_area() == 708148.3951477829)"
   ]
  },
  {
   "cell_type": "code",
   "execution_count": 80,
   "metadata": {},
   "outputs": [
    {
     "name": "stdout",
     "output_type": "stream",
     "text": [
      "True\n"
     ]
    }
   ],
   "source": [
    "# area_prof_1():\n",
    "\n",
    "delimitation = Delimitation()\n",
    "\n",
    "# Create the points\n",
    "p1 = Point(\"p1\", 0.0, 10.0)\n",
    "p4 = Point(\"p4\", 4.0, 5.0)\n",
    "p8 = Point(\"p8\", 12.0, -1.0)\n",
    "p2 = Point(\"p2\", 10.0, 10.0)\n",
    "p6 = Point(\"p6\", 1.0, 20.0)\n",
    "\n",
    "# Add points to the delimitation\n",
    "delimitation.add_point(p1)\n",
    "delimitation.add_point(p4)\n",
    "delimitation.add_point(p8)\n",
    "delimitation.add_point(p2)\n",
    "delimitation.add_point(p6)\n",
    "\n",
    "print(delimitation.get_area() == 404310.0128400312)"
   ]
  },
  {
   "cell_type": "code",
   "execution_count": 81,
   "metadata": {},
   "outputs": [
    {
     "name": "stdout",
     "output_type": "stream",
     "text": [
      "True\n",
      "True\n",
      "True\n",
      "True\n",
      "True\n",
      "True\n",
      "True\n",
      "True\n"
     ]
    }
   ],
   "source": [
    "# Test: Copy Delimitation (test_copy_delimitation)\n",
    "d1 = Delimitation()\n",
    "p1 = Point(\"p01\", 10, 0)\n",
    "p2 = Point(\"p02\", 10, 10)\n",
    "\n",
    "d1.add_point(p1)\n",
    "d1.add_point(p2)\n",
    "\n",
    "# Create a copy using the custom copy method\n",
    "d1_1 = d1.copy()\n",
    "\n",
    "# Check that the objects (Delimitation) are not the same\n",
    "print(id(d1) != id(d1_1))  # True if they are not the same object\n",
    "print(d1 == d1_1)  # True if they are equal in value\n",
    "\n",
    "# Check that the points inside are equal but not the same objects\n",
    "print(d1.get_first() == d1_1.get_first())  # True if the points are equal in value\n",
    "print(id(d1.get_first()) != id(d1_1.get_first()))  # True if they are not the same object\n",
    "\n",
    "# Check all points are new objects but equal in value\n",
    "for p_orig, p_copy in zip(d1.get_points(), d1_1.get_points()):\n",
    "    print(p_orig == p_copy)  # True if points are equal in value\n",
    "    print(id(p_orig) != id(p_copy))  # True if they do not have the same ID\n"
   ]
  },
  {
   "cell_type": "code",
   "execution_count": 82,
   "metadata": {},
   "outputs": [
    {
     "name": "stdout",
     "output_type": "stream",
     "text": [
      "Intersect Test Cases:\n",
      "\n",
      "True\n",
      "True\n",
      "True\n",
      "True\n",
      "True\n",
      "All intersect tests passed!\n"
     ]
    }
   ],
   "source": [
    "# Test: Intersect Test (test_intersect)\n",
    "d = Delimitation()\n",
    "\n",
    "print(\"Intersect Test Cases:\\n\")\n",
    "\n",
    "# Test case 1: Intersecting lines\n",
    "p1 = Point(\"p1\", 1, 1)\n",
    "p2 = Point(\"p2\", 3, 3)\n",
    "p3 = Point(\"p3\", 1, 3)\n",
    "p4 = Point(\"p4\", 3, 1)\n",
    "# Lines formed by p1-p2 and p3-p4 should intersect\n",
    "print(d.intersects(p1, p2, p3, p4) == True)  # True if they intersect\n",
    "\n",
    "# Test case 2: Parallel lines (no intersection)\n",
    "p5 = Point(\"p5\", 1, 1)\n",
    "p6 = Point(\"p6\", 3, 1)\n",
    "p7 = Point(\"p7\", 1, 2)\n",
    "p8 = Point(\"p8\", 3, 2)\n",
    "# Lines formed by p5-p6 and p7-p8 are parallel and should not intersect\n",
    "print(d.intersects(p5, p6, p7, p8) == False)  # False if no intersection\n",
    "\n",
    "# Test case 3: Coincident lines (no intersection, or considered the same line)\n",
    "p9 = Point(\"p9\", 0, 0)\n",
    "p10 = Point(\"p10\", 2, 2)\n",
    "p11 = Point(\"p11\", 1, 1)\n",
    "p12 = Point(\"p12\", 3, 3)\n",
    "# Lines formed by p9-p10 and p11-p12 are coincident (same line)\n",
    "print(d.intersects(p9, p10, p11, p12) == False)  # False if coincident\n",
    "\n",
    "# Test case 4: Intersecting lines with different slopes\n",
    "p13 = Point(\"p13\", 0, 0)\n",
    "p14 = Point(\"p14\", 4, 4)\n",
    "p15 = Point(\"p15\", 0, 4)\n",
    "p16 = Point(\"p16\", 4, 0)\n",
    "# Lines formed by p13-p14 and p15-p16 should intersect\n",
    "print(d.intersects(p13, p14, p15, p16) == True)  # True if they intersect\n",
    "\n",
    "# Test case 5: Vertical and horizontal intersecting lines\n",
    "p17 = Point(\"p17\", 0, 0)\n",
    "p18 = Point(\"p18\", 0, 5)\n",
    "p19 = Point(\"p19\", -3, 2)\n",
    "p20 = Point(\"p20\", 3, 2)\n",
    "# Lines formed by p17-p18 (vertical) and p19-p20 (horizontal) should intersect\n",
    "print(d.intersects(p17, p18, p19, p20) == True)  # True if they intersect\n",
    "\n",
    "print(\"All intersect tests passed!\")\n"
   ]
  },
  {
   "cell_type": "code",
   "execution_count": 83,
   "metadata": {},
   "outputs": [
    {
     "name": "stdout",
     "output_type": "stream",
     "text": [
      "\n",
      "Crosses Delimitation Test Cases:\n",
      "\n",
      "True\n",
      "True\n",
      "True\n",
      "True\n",
      "All crosses delimitation tests passed!\n"
     ]
    }
   ],
   "source": [
    "# Test: Crosses Delimitation Test (test_crosses_delimitation)\n",
    "print(\"\\nCrosses Delimitation Test Cases:\\n\")\n",
    "\n",
    "# Test case 1: Line intersects triangle\n",
    "d = Delimitation()\n",
    "p1 = Point(\"p1\", 0, 0)\n",
    "p2 = Point(\"p2\", 4, 0)\n",
    "p3 = Point(\"p3\", 2, 4)\n",
    "p4 = Point(\"p4\", 0, 0)  # Closing the triangle\n",
    "\n",
    "d.add_point(p1)\n",
    "d.add_point(p2)\n",
    "d.add_point(p3)\n",
    "d.add_point(p4)\n",
    "\n",
    "line_p1 = Point(\"p5\", 2, 1)\n",
    "line_p2 = Point(\"p6\", 2, 5)\n",
    "\n",
    "print(d.crosses_delimitation(line_p1, line_p2) == True)  # True if line intersects\n",
    "\n",
    "# Test case 2: Line does not intersect square\n",
    "g = Delimitation()\n",
    "p5 = Point(\"p5\", 0, 0)\n",
    "p6 = Point(\"p6\", 4, 0)\n",
    "p7 = Point(\"p7\", 4, 4)\n",
    "p8 = Point(\"p8\", 0, 4)\n",
    "\n",
    "g.add_point(p5)\n",
    "g.add_point(p6)\n",
    "g.add_point(p7)\n",
    "g.add_point(p8)\n",
    "\n",
    "line_p1 = Point(\"p10\", 5, 5)\n",
    "line_p2 = Point(\"p11\", 6, 6)\n",
    "\n",
    "print(g.crosses_delimitation(line_p1, line_p2) == False)  # False if no intersection\n",
    "\n",
    "# Test case 3: Line intersects the square\n",
    "line_p1 = Point(\"p12\", 2, -1)\n",
    "line_p2 = Point(\"p13\", 2, 5)\n",
    "\n",
    "print(g.crosses_delimitation(line_p1, line_p2) == True)  # True if line intersects\n",
    "\n",
    "# Test case 4: Line does not intersect\n",
    "line_p1 = Point(\"p14\", -1, -1)\n",
    "line_p2 = Point(\"p15\", 2, -2)\n",
    "\n",
    "print(d.crosses_delimitation(line_p1, line_p2) == False)  # False if no intersection\n",
    "\n",
    "print(\"All crosses delimitation tests passed!\")\n"
   ]
  }
 ],
 "metadata": {
  "kernelspec": {
   "display_name": "venv",
   "language": "python",
   "name": "python3"
  },
  "language_info": {
   "codemirror_mode": {
    "name": "ipython",
    "version": 3
   },
   "file_extension": ".py",
   "mimetype": "text/x-python",
   "name": "python",
   "nbconvert_exporter": "python",
   "pygments_lexer": "ipython3",
   "version": "3.11.9"
  }
 },
 "nbformat": 4,
 "nbformat_minor": 2
}
