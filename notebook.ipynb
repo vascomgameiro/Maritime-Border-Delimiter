{
 "cells": [
  {
   "cell_type": "code",
   "execution_count": 4,
   "metadata": {},
   "outputs": [
    {
     "name": "stdout",
     "output_type": "stream",
     "text": [
      "The autoreload extension is already loaded. To reload it, use:\n",
      "  %reload_ext autoreload\n"
     ]
    }
   ],
   "source": [
    "%load_ext autoreload\n",
    "from src.point import Point"
   ]
  },
  {
   "cell_type": "code",
   "execution_count": 29,
   "metadata": {},
   "outputs": [
    {
     "name": "stdout",
     "output_type": "stream",
     "text": [
      "Delimitation(Point 1 (40.7128, -74.006); Point 2 (34.0522, -118.2437); Point 3 (41.8781, -87.6298))\n"
     ]
    }
   ],
   "source": [
    "class Point:\n",
    "    def __init__(self, point_id, latitude, longitude):\n",
    "        self.__id = point_id\n",
    "        self.__latitude = latitude\n",
    "        self.__longitude = longitude\n",
    "\n",
    "    def __repr__(self):\n",
    "        return f\"Point {self.__id} ({self.__latitude}, {self.__longitude})\"\n",
    "\n",
    "\n",
    "class PolygonDelimitation:\n",
    "    def __init__(self, points):\n",
    "        self.points = points  # List of Point objects\n",
    "\n",
    "    def __repr__(self):\n",
    "        # Create a string representation for each point and join them into a single string\n",
    "        points_repr = \"; \".join([repr(point) for point in self.points])\n",
    "        return f\"Delimitation({points_repr})\"\n",
    "\n",
    "\n",
    "# Example usage\n",
    "points = [\n",
    "    Point(1, 40.7128, -74.0060),  # New York\n",
    "    Point(2, 34.0522, -118.2437),  # Los Angeles\n",
    "    Point(3, 41.8781, -87.6298),  # Chicago\n",
    "]\n",
    "\n",
    "polygon = PolygonDelimitation(points)\n",
    "print(repr(polygon))"
   ]
  }
 ],
 "metadata": {
  "kernelspec": {
   "display_name": "venv",
   "language": "python",
   "name": "python3"
  },
  "language_info": {
   "codemirror_mode": {
    "name": "ipython",
    "version": 3
   },
   "file_extension": ".py",
   "mimetype": "text/x-python",
   "name": "python",
   "nbconvert_exporter": "python",
   "pygments_lexer": "ipython3",
   "version": "3.11.9"
  }
 },
 "nbformat": 4,
 "nbformat_minor": 2
}
